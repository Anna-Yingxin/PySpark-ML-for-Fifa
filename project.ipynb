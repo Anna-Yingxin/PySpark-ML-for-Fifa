{
 "cells": [
  {
   "cell_type": "code",
   "execution_count": 1,
   "metadata": {},
   "outputs": [
    {
     "name": "stdout",
     "output_type": "stream",
     "text": [
      "23/11/16 21:22:09 WARN NativeCodeLoader: Unable to load native-hadoop library for your platform... using builtin-java classes where applicable\n"
     ]
    },
    {
     "name": "stderr",
     "output_type": "stream",
     "text": [
      "Setting default log level to \"WARN\".\n",
      "To adjust logging level use sc.setLogLevel(newLevel). For SparkR, use setLogLevel(newLevel).\n",
      "/Users/mac/miniforge3/envs/tf3/lib/python3.8/site-packages/pyspark/sql/context.py:112: FutureWarning: Deprecated in 3.0.0. Use SparkSession.builder.getOrCreate() instead.\n",
      "  warnings.warn(\n"
     ]
    }
   ],
   "source": [
    "import pyspark, os\n",
    "\n",
    "from pyspark.sql import SparkSession\n",
    "from pyspark import SparkContext, SQLContext\n",
    "\n",
    "appName = \"Big Data Analytics\"\n",
    "master = \"local\"\n",
    "\n",
    "path_to_jar = \"/Users/mac/miniforge3/lib/python3.10/site-packages/pyspark/jars/postgresql-42.6.0.jar\"\n",
    "os.environ['JAVA_HOME'] = '/Library/Java/JavaVirtualMachines/adoptopenjdk-11.jdk/Contents/Home'\n",
    "\n",
    "conf = pyspark.SparkConf()\\\n",
    "    .set('spark.driver.host', '127.0.0.1')\\\n",
    "    .setAppName(appName)\\\n",
    "    .setMaster(master)\\\n",
    "    .set(\"spark.jars\", path_to_jar)\\\n",
    "    .set(\"spark.driver.extraClassPath\", path_to_jar)\n",
    "# Create Spark Context with the new configurations rather than relying on the default one\n",
    "sc = SparkContext.getOrCreate(conf=conf)\n",
    "\n",
    "# You need to create SQL Context to conduct some database operations like what we will see later.\n",
    "sqlContext = SQLContext(sc)\n",
    "\n",
    "# If you have SQL context, you create the session from the Spark Context\n",
    "spark = sqlContext.sparkSession.builder.getOrCreate()"
   ]
  },
  {
   "cell_type": "markdown",
   "metadata": {},
   "source": [
    "## Task 1:"
   ]
  },
  {
   "cell_type": "code",
   "execution_count": 2,
   "metadata": {},
   "outputs": [
    {
     "name": "stderr",
     "output_type": "stream",
     "text": [
      "                                                                                \r"
     ]
    },
    {
     "name": "stdout",
     "output_type": "stream",
     "text": [
      "23/11/16 21:22:23 WARN package: Truncated the string representation of a plan since it was too large. This behavior can be adjusted by setting 'spark.sql.debug.maxToStringFields'.\n"
     ]
    },
    {
     "name": "stderr",
     "output_type": "stream",
     "text": [
      "                                                                                \r"
     ]
    },
    {
     "name": "stdout",
     "output_type": "stream",
     "text": [
      "-RECORD 0-------------------------------------------\n",
      " sofifa_id                   | 158023               \n",
      " player_url                  | https://sofifa.co... \n",
      " short_name                  | L. Messi             \n",
      " long_name                   | Lionel Andrés Mes... \n",
      " player_positions            | CF                   \n",
      " overall                     | 93                   \n",
      " potential                   | 95                   \n",
      " value_eur                   | 1.005E8              \n",
      " wage_eur                    | 550000.0             \n",
      " age                         | 27                   \n",
      " dob                         | 1987-06-24 00:00:00  \n",
      " height_cm                   | 169                  \n",
      " weight_kg                   | 67                   \n",
      " club_team_id                | 241.0                \n",
      " club_name                   | FC Barcelona         \n",
      " league_name                 | Spain Primera Div... \n",
      " league_level                | 1                    \n",
      " club_position               | CF                   \n",
      " club_jersey_number          | 10                   \n",
      " club_loaned_from            | null                 \n",
      " club_joined                 | 2004-07-01 00:00:00  \n",
      " club_contract_valid_until   | 2018                 \n",
      " nationality_id              | 52                   \n",
      " nationality_name            | Argentina            \n",
      " nation_team_id              | 1369.0               \n",
      " nation_position             | CF                   \n",
      " nation_jersey_number        | 10                   \n",
      " preferred_foot              | Left                 \n",
      " weak_foot                   | 3                    \n",
      " skill_moves                 | 4                    \n",
      " international_reputation    | 5                    \n",
      " work_rate                   | Medium/Low           \n",
      " body_type                   | Normal (170-)        \n",
      " real_face                   | Yes                  \n",
      " release_clause_eur          | null                 \n",
      " player_tags                 | #Speedster, #Drib... \n",
      " player_traits               | Finesse Shot, Spe... \n",
      " pace                        | 93                   \n",
      " shooting                    | 89                   \n",
      " passing                     | 86                   \n",
      " dribbling                   | 96                   \n",
      " defending                   | 27                   \n",
      " physic                      | 63                   \n",
      " attacking_crossing          | 84                   \n",
      " attacking_finishing         | 94                   \n",
      " attacking_heading_accuracy  | 71                   \n",
      " attacking_short_passing     | 89                   \n",
      " attacking_volleys           | 85                   \n",
      " skill_dribbling             | 96                   \n",
      " skill_curve                 | 89                   \n",
      " skill_fk_accuracy           | 90                   \n",
      " skill_long_passing          | 76                   \n",
      " skill_ball_control          | 96                   \n",
      " movement_acceleration       | 96                   \n",
      " movement_sprint_speed       | 90                   \n",
      " movement_agility            | 94                   \n",
      " movement_reactions          | 94                   \n",
      " movement_balance            | 95                   \n",
      " power_shot_power            | 80                   \n",
      " power_jumping               | 73                   \n",
      " power_stamina               | 77                   \n",
      " power_strength              | 60                   \n",
      " power_long_shots            | 88                   \n",
      " mentality_aggression        | 48                   \n",
      " mentality_interceptions     | 22                   \n",
      " mentality_positioning       | 92                   \n",
      " mentality_vision            | 90                   \n",
      " mentality_penalties         | 76                   \n",
      " mentality_composure         | null                 \n",
      " defending_marking_awareness | 25                   \n",
      " defending_standing_tackle   | 21                   \n",
      " defending_sliding_tackle    | 20                   \n",
      " goalkeeping_diving          | 6                    \n",
      " goalkeeping_handling        | 11                   \n",
      " goalkeeping_kicking         | 15                   \n",
      " goalkeeping_positioning     | 14                   \n",
      " goalkeeping_reflexes        | 8                    \n",
      " goalkeeping_speed           | null                 \n",
      " ls                          | 89+3                 \n",
      " st                          | 89+3                 \n",
      " rs                          | 89+3                 \n",
      " lw                          | 92+3                 \n",
      " lf                          | 90+3                 \n",
      " cf                          | 90+3                 \n",
      " rf                          | 90+3                 \n",
      " rw                          | 92+3                 \n",
      " lam                         | 92+3                 \n",
      " cam                         | 92+3                 \n",
      " ram                         | 92+3                 \n",
      " lm                          | 90+3                 \n",
      " lcm                         | 79+3                 \n",
      " cm                          | 79+3                 \n",
      " rcm                         | 79+3                 \n",
      " rm                          | 90+3                 \n",
      " lwb                         | 62+3                 \n",
      " ldm                         | 62+3                 \n",
      " cdm                         | 62+3                 \n",
      " rdm                         | 62+3                 \n",
      " rwb                         | 62+3                 \n",
      " lb                          | 54+3                 \n",
      " lcb                         | 45+3                 \n",
      " cb                          | 45+3                 \n",
      " rcb                         | 45+3                 \n",
      " rb                          | 54+3                 \n",
      " gk                          | 15+3                 \n",
      " player_face_url             | https://cdn.sofif... \n",
      " club_logo_url               | https://cdn.sofif... \n",
      " club_flag_url               | https://cdn.sofif... \n",
      " nation_logo_url             | https://cdn.sofif... \n",
      " nation_flag_url             | https://cdn.sofif... \n",
      " year                        | 2015                 \n",
      " unique_id                   | 0                    \n",
      "only showing top 1 row\n",
      "\n"
     ]
    }
   ],
   "source": [
    "from pyspark.sql.functions import *\n",
    "players_15 = spark.read.csv(\"data/players_15.csv\",header=True, inferSchema= True).withColumn(\"year\", lit(2015))\n",
    "players_16 = spark.read.csv(\"data/players_16.csv\",header=True, inferSchema= True).withColumn(\"year\", lit(2016))\n",
    "players_17 = spark.read.csv(\"data/players_17.csv\",header=True, inferSchema= True).withColumn(\"year\", lit(2017))\n",
    "players_18 = spark.read.csv(\"data/players_18.csv\",header=True, inferSchema= True).withColumn(\"year\", lit(2018))\n",
    "players_19 = spark.read.csv(\"data/players_19.csv\",header=True, inferSchema= True).withColumn(\"year\", lit(2019))\n",
    "players_20 = spark.read.csv(\"data/players_20.csv\",header=True, inferSchema= True).withColumn(\"year\", lit(2020))\n",
    "players_21 = spark.read.csv(\"data/players_21.csv\",header=True, inferSchema= True).withColumn(\"year\", lit(2021))\n",
    "players_22 = spark.read.csv(\"data/players_22.csv\",header=True, inferSchema= True).withColumn(\"year\", lit(2022))\n",
    "\n",
    "df=players_15.union(players_16).union(players_17).union(players_18).union(players_19).union(players_20).union(players_21).union(players_22)\n",
    "df=df.withColumn(\"unique_id\", monotonically_increasing_id())\n",
    "df.show(1,vertical=True)\n",
    "\n"
   ]
  },
  {
   "cell_type": "code",
   "execution_count": 3,
   "metadata": {},
   "outputs": [
    {
     "name": "stderr",
     "output_type": "stream",
     "text": [
      "[Stage 18:>                                                         (0 + 1) / 1]\r"
     ]
    },
    {
     "name": "stdout",
     "output_type": "stream",
     "text": [
      "+---------+--------------------+-----------------+--------------------+----------------+-------+---------+---------+--------+---+-------------------+---------+---------+------------+-------------------+--------------------+------------+-------------+------------------+----------------+-------------------+-------------------------+--------------+----------------+--------------+---------------+--------------------+--------------+---------+-----------+------------------------+-------------+----------------+---------+------------------+--------------------+--------------------+----+--------+-------+---------+---------+------+------------------+-------------------+--------------------------+-----------------------+-----------------+---------------+-----------+-----------------+------------------+------------------+---------------------+---------------------+----------------+------------------+----------------+----------------+-------------+-------------+--------------+----------------+--------------------+-----------------------+---------------------+----------------+-------------------+-------------------+---------------------------+-------------------------+------------------------+------------------+--------------------+-------------------+-----------------------+--------------------+-----------------+----+----+----+----+----+----+----+----+----+----+----+----+----+----+----+----+----+----+----+----+----+----+----+----+----+----+----+--------------------+--------------------+--------------------+--------------------+--------------------+----+---------+\n",
      "|sofifa_id|          player_url|       short_name|           long_name|player_positions|overall|potential|value_eur|wage_eur|age|                dob|height_cm|weight_kg|club_team_id|          club_name|         league_name|league_level|club_position|club_jersey_number|club_loaned_from|        club_joined|club_contract_valid_until|nationality_id|nationality_name|nation_team_id|nation_position|nation_jersey_number|preferred_foot|weak_foot|skill_moves|international_reputation|    work_rate|       body_type|real_face|release_clause_eur|         player_tags|       player_traits|pace|shooting|passing|dribbling|defending|physic|attacking_crossing|attacking_finishing|attacking_heading_accuracy|attacking_short_passing|attacking_volleys|skill_dribbling|skill_curve|skill_fk_accuracy|skill_long_passing|skill_ball_control|movement_acceleration|movement_sprint_speed|movement_agility|movement_reactions|movement_balance|power_shot_power|power_jumping|power_stamina|power_strength|power_long_shots|mentality_aggression|mentality_interceptions|mentality_positioning|mentality_vision|mentality_penalties|mentality_composure|defending_marking_awareness|defending_standing_tackle|defending_sliding_tackle|goalkeeping_diving|goalkeeping_handling|goalkeeping_kicking|goalkeeping_positioning|goalkeeping_reflexes|goalkeeping_speed|  ls|  st|  rs|  lw|  lf|  cf|  rf|  rw| lam| cam| ram|  lm| lcm|  cm| rcm|  rm| lwb| ldm| cdm| rdm| rwb|  lb| lcb|  cb| rcb|  rb|  gk|     player_face_url|       club_logo_url|       club_flag_url|     nation_logo_url|     nation_flag_url|year|unique_id|\n",
      "+---------+--------------------+-----------------+--------------------+----------------+-------+---------+---------+--------+---+-------------------+---------+---------+------------+-------------------+--------------------+------------+-------------+------------------+----------------+-------------------+-------------------------+--------------+----------------+--------------+---------------+--------------------+--------------+---------+-----------+------------------------+-------------+----------------+---------+------------------+--------------------+--------------------+----+--------+-------+---------+---------+------+------------------+-------------------+--------------------------+-----------------------+-----------------+---------------+-----------+-----------------+------------------+------------------+---------------------+---------------------+----------------+------------------+----------------+----------------+-------------+-------------+--------------+----------------+--------------------+-----------------------+---------------------+----------------+-------------------+-------------------+---------------------------+-------------------------+------------------------+------------------+--------------------+-------------------+-----------------------+--------------------+-----------------+----+----+----+----+----+----+----+----+----+----+----+----+----+----+----+----+----+----+----+----+----+----+----+----+----+----+----+--------------------+--------------------+--------------------+--------------------+--------------------+----+---------+\n",
      "|   158023|https://sofifa.co...|         L. Messi|Lionel Andrés Mes...|              CF|     93|       95|  1.005E8|550000.0| 27|1987-06-24 00:00:00|      169|       67|       241.0|       FC Barcelona|Spain Primera Div...|           1|           CF|                10|            null|2004-07-01 00:00:00|                     2018|            52|       Argentina|        1369.0|             CF|                  10|          Left|        3|          4|                       5|   Medium/Low|   Normal (170-)|      Yes|              null|#Speedster, #Drib...|Finesse Shot, Spe...|  93|      89|     86|       96|       27|    63|                84|                 94|                        71|                     89|               85|             96|         89|               90|                76|                96|                   96|                   90|              94|                94|              95|              80|           73|           77|            60|              88|                  48|                     22|                   92|              90|                 76|               null|                         25|                       21|                      20|                 6|                  11|                 15|                     14|                   8|             null|89+3|89+3|89+3|92+3|90+3|90+3|90+3|92+3|92+3|92+3|92+3|90+3|79+3|79+3|79+3|90+3|62+3|62+3|62+3|62+3|62+3|54+3|45+3|45+3|45+3|54+3|15+3|https://cdn.sofif...|https://cdn.sofif...|https://cdn.sofif...|https://cdn.sofif...|https://cdn.sofif...|2015|        0|\n",
      "|    20801|https://sofifa.co...|Cristiano Ronaldo|Cristiano Ronaldo...|          LW, LM|     92|       92|    7.9E7|375000.0| 29|1985-02-05 00:00:00|      185|       80|       243.0|     Real Madrid CF|Spain Primera Div...|           1|           LW|                 7|            null|2009-07-01 00:00:00|                     2018|            38|        Portugal|        1354.0|             LW|                   7|         Right|        4|          5|                       5|     High/Low|   Normal (185+)|      Yes|              null|#Speedster, #Drib...|Power Free-Kick, ...|  93|      93|     81|       91|       32|    79|                83|                 95|                        86|                     82|               87|             93|         88|               79|                72|                92|                   91|                   94|              93|                90|              63|              94|           94|           89|            79|              93|                  63|                     24|                   91|              81|                 85|               null|                         22|                       31|                      23|                 7|                  11|                 15|                     14|                  11|             null|91+1|91+1|91+1|89+3|91+1|91+1|91+1|89+3|89+3|89+3|89+3|87+3|77+3|77+3|77+3|87+3|63+3|63+3|63+3|63+3|63+3|57+3|52+3|52+3|52+3|57+3|16+3|https://cdn.sofif...|https://cdn.sofif...|https://cdn.sofif...|https://cdn.sofif...|https://cdn.sofif...|2015|        1|\n",
      "|     9014|https://sofifa.co...|        A. Robben|        Arjen Robben|      RM, LM, RW|     90|       90|   5.45E7|275000.0| 30|1984-01-23 00:00:00|      180|       80|        21.0|  FC Bayern München|German 1. Bundesliga|           1|          SUB|                10|            null|2009-08-28 00:00:00|                     2017|            34|     Netherlands|      105035.0|             RS|                  11|          Left|        2|          4|                       5|     High/Low|Normal (170-185)|      Yes|              null|#Speedster, #Drib...|Diver, Injury Pro...|  93|      86|     83|       92|       32|    64|                80|                 85|                        50|                     86|               86|             93|         85|               83|                76|                90|                   93|                   93|              93|                89|              91|              86|           61|           78|            65|              90|                  47|                     39|                   89|              84|                 80|               null|                         29|                       26|                      26|                10|                   8|                 11|                      5|                  15|             null|84+3|84+3|84+3|88+2|87+3|87+3|87+3|88+2|88+2|88+2|88+2|87+3|78+3|78+3|78+3|87+3|64+3|64+3|64+3|64+3|64+3|55+3|46+3|46+3|46+3|55+3|14+3|https://cdn.sofif...|https://cdn.sofif...|https://cdn.sofif...|https://cdn.sofif...|https://cdn.sofif...|2015|        2|\n",
      "|    41236|https://sofifa.co...|   Z. Ibrahimović|  Zlatan Ibrahimović|              ST|     90|       90|   5.25E7|275000.0| 32|1981-10-03 00:00:00|      195|       95|        73.0|Paris Saint-Germain|      French Ligue 1|           1|           ST|                10|            null|2012-07-01 00:00:00|                     2016|            46|          Sweden|        1363.0|             ST|                  10|         Right|        4|          4|                       5|   Medium/Low|   Normal (185+)|      Yes|              null|#Poacher, #Aerial...|Power Free-Kick, ...|  76|      91|     81|       86|       34|    86|                76|                 91|                        76|                     84|               92|             88|         80|               80|                76|                90|                   74|                   77|              86|                85|              41|              93|           72|           78|            93|              88|                  84|                     20|                   86|              83|                 91|               null|                         25|                       41|                      27|                13|                  15|                 10|                      9|                  12|             null|87+3|87+3|87+3|84+3|86+3|86+3|86+3|84+3|86+3|86+3|86+3|83+3|76+3|76+3|76+3|83+3|61+3|65+3|65+3|65+3|61+3|56+3|55+3|55+3|55+3|56+3|17+3|https://cdn.sofif...|https://cdn.sofif...|https://cdn.sofif...|https://cdn.sofif...|https://cdn.sofif...|2015|        3|\n",
      "|   167495|https://sofifa.co...|         M. Neuer|  Manuel Peter Neuer|              GK|     90|       90|   6.35E7|300000.0| 28|1986-03-27 00:00:00|      193|       92|        21.0|  FC Bayern München|German 1. Bundesliga|           1|           GK|                 1|            null|2011-07-01 00:00:00|                     2019|            21|         Germany|        1337.0|             GK|                   1|         Right|        4|          1|                       5|Medium/Medium|   Normal (185+)|      Yes|              null|                null|GK Up for Corners...|null|    null|   null|     null|     null|  null|                25|                 25|                        25|                     42|               25|             25|         25|               25|                41|                31|                   58|                   61|              43|                89|              35|              42|           78|           44|            83|              25|                  29|                     30|                   25|              20|                 37|               null|                         25|                       25|                      25|                87|                  85|                 92|                     90|                  86|               60|38+3|38+3|38+3|36+3|37+3|37+3|37+3|36+3|36+3|36+3|36+3|38+3|36+3|36+3|36+3|38+3|36+3|40+3|40+3|40+3|36+3|36+3|38+3|38+3|38+3|36+3|87+3|https://cdn.sofif...|https://cdn.sofif...|https://cdn.sofif...|https://cdn.sofif...|https://cdn.sofif...|2015|        4|\n",
      "|       41|https://sofifa.co...|          Iniesta|Andrés Iniesta Luján|          CM, LW|     89|       89|    3.6E7|250000.0| 30|1984-05-11 00:00:00|      170|       65|       241.0|       FC Barcelona|Spain Primera Div...|           1|          LCM|                 8|            null|2002-07-01 00:00:00|                     2018|            45|           Spain|        1362.0|             LW|                   6|         Right|        4|          4|                       5|  High/Medium|   Normal (170-)|      Yes|              null|#Dribbler, #Playm...|Finesse Shot, Pla...|  75|      72|     89|       91|       59|    63|                85|                 73|                        54|                     93|               74|             92|         80|               70|                89|                94|                   76|                   75|              83|                90|              86|              65|           54|           78|            59|              75|                  58|                     68|                   87|              93|                 71|               null|                         57|                       57|                      56|                 6|                  13|                  6|                     13|                   7|             null|77+3|77+3|77+3|87+2|82+3|82+3|82+3|87+2|88+1|88+1|88+1|88+1|86+3|86+3|86+3|88+1|76+3|77+3|77+3|77+3|76+3|70+3|63+3|63+3|63+3|70+3|14+3|https://cdn.sofif...|https://cdn.sofif...|https://cdn.sofif...|https://cdn.sofif...|https://cdn.sofif...|2015|        5|\n",
      "|   176580|https://sofifa.co...|        L. Suárez|Luis Alberto Suár...|          ST, CF|     89|       91|   4.95E7|300000.0| 27|1987-01-24 00:00:00|      181|       81|       241.0|       FC Barcelona|Spain Primera Div...|           1|          RES|                 9|            null|2014-07-11 00:00:00|                     2019|            60|         Uruguay|          null|           null|                null|         Right|        4|          4|                       5|  High/Medium|Normal (170-185)|      Yes|              null|#Acrobat, #Clinic...|Diver, Beat Offsi...|  83|      87|     79|       88|       42|    79|                77|                 91|                        75|                     82|               85|             90|         86|               84|                64|                89|                   88|                   79|              86|                91|              60|              84|           69|           86|            76|              82|                  78|                     41|                   88|              84|                 85|               null|                         30|                       45|                      38|                27|                  25|                 31|                     33|                  37|             null|86+3|86+3|86+3|85+3|86+3|86+3|86+3|85+3|87+3|87+3|87+3|84+3|77+3|77+3|77+3|84+3|67+3|67+3|67+3|67+3|67+3|62+3|57+3|57+3|57+3|62+3|34+3|https://cdn.sofif...|https://cdn.sofif...|https://cdn.sofif...|                null|https://cdn.sofif...|2015|        6|\n",
      "|     7826|https://sofifa.co...|    R. van Persie|    Robin van Persie|              ST|     88|       88|   4.05E7|230000.0| 30|1983-08-06 00:00:00|      187|       71|        11.0|  Manchester United|English Premier L...|           1|           RS|                20|            null|2012-08-17 00:00:00|                     2016|            34|     Netherlands|      105035.0|             LS|                   9|          Left|        3|          4|                       5|   Medium/Low|   Normal (185+)|      Yes|              null|#Distance Shooter...|Injury Prone, Fla...|  74|      90|     82|       83|       33|    68|                81|                 91|                        73|                     85|               92|             84|         86|               81|                75|                87|                   73|                   74|              80|                88|              59|              90|           59|           72|            72|              86|                  55|                     34|                   90|              82|                 86|               null|                         23|                       32|                      21|                 9|                  10|                  5|                      7|                   8|             null|85+3|85+3|85+3|84+3|86+2|86+2|86+2|84+3|85+3|85+3|85+3|82+3|76+3|76+3|76+3|82+3|60+3|63+3|63+3|63+3|60+3|54+3|48+3|48+3|48+3|54+3|13+3|https://cdn.sofif...|https://cdn.sofif...|https://cdn.sofif...|https://cdn.sofif...|https://cdn.sofif...|2015|        7|\n",
      "|   121944|https://sofifa.co...|B. Schweinsteiger|Bastian Schweinst...|         CM, CDM|     88|       88|    3.9E7|200000.0| 29|1984-08-01 00:00:00|      183|       79|        21.0|  FC Bayern München|German 1. Bundesliga|           1|          SUB|                31|            null|2002-07-01 00:00:00|                     2016|            21|         Germany|        1337.0|            SUB|                   7|         Right|        3|          3|                       4|    High/High|Normal (170-185)|      Yes|              null|#Playmaker, #Engi...|Injury Prone, Lea...|  61|      81|     85|       82|       78|    80|                81|                 76|                        79|                     88|               83|             81|         82|               78|                87|                86|                   58|                   64|              74|                90|              75|              86|           82|           86|            77|              86|                  80|                     86|                   82|              86|                 81|               null|                         69|                       80|                      77|                14|                  14|                 13|                     13|                  11|             null|80+2|80+2|80+2|80+2|82+2|82+2|82+2|80+2|84+2|84+2|84+2|82+2|86+2|86+2|86+2|82+2|81+2|84+2|84+2|84+2|81+2|81+2|79+2|79+2|79+2|81+2|18+2|https://cdn.sofif...|https://cdn.sofif...|https://cdn.sofif...|https://cdn.sofif...|https://cdn.sofif...|2015|        8|\n",
      "|   156616|https://sofifa.co...|        F. Ribéry| Franck Bilal Ribéry|              LM|     88|       88|    3.3E7|200000.0| 31|1983-04-07 00:00:00|      170|       72|        21.0|  FC Bayern München|German 1. Bundesliga|           1|          SUB|                 7|            null|2007-07-01 00:00:00|                     2017|            18|          France|          null|           null|                null|         Right|        4|          5|                       4|  High/Medium|   Normal (170-)|      Yes|              null| #Dribbler, #Acrobat|Injury Prone, Fla...|  89|      78|     85|       92|       29|    62|                83|                 79|                        41|                     89|               81|             92|         84|               81|                74|                91|                   91|                   87|              92|                89|              92|              76|           51|           72|            62|              73|                  52|                     36|                   83|              88|                 80|               null|                         25|                       25|                      26|                15|                   6|                  9|                      7|                  10|             null|79+2|79+2|79+2|87+1|82+2|82+2|82+2|87+1|87+1|87+1|87+1|86+2|77+2|77+2|77+2|86+2|63+2|63+2|63+2|63+2|63+2|53+2|44+2|44+2|44+2|53+2|14+2|https://cdn.sofif...|https://cdn.sofif...|https://cdn.sofif...|                null|https://cdn.sofif...|2015|        9|\n",
      "+---------+--------------------+-----------------+--------------------+----------------+-------+---------+---------+--------+---+-------------------+---------+---------+------------+-------------------+--------------------+------------+-------------+------------------+----------------+-------------------+-------------------------+--------------+----------------+--------------+---------------+--------------------+--------------+---------+-----------+------------------------+-------------+----------------+---------+------------------+--------------------+--------------------+----+--------+-------+---------+---------+------+------------------+-------------------+--------------------------+-----------------------+-----------------+---------------+-----------+-----------------+------------------+------------------+---------------------+---------------------+----------------+------------------+----------------+----------------+-------------+-------------+--------------+----------------+--------------------+-----------------------+---------------------+----------------+-------------------+-------------------+---------------------------+-------------------------+------------------------+------------------+--------------------+-------------------+-----------------------+--------------------+-----------------+----+----+----+----+----+----+----+----+----+----+----+----+----+----+----+----+----+----+----+----+----+----+----+----+----+----+----+--------------------+--------------------+--------------------+--------------------+--------------------+----+---------+\n",
      "only showing top 10 rows\n",
      "\n"
     ]
    },
    {
     "name": "stderr",
     "output_type": "stream",
     "text": [
      "                                                                                \r"
     ]
    }
   ],
   "source": [
    "db_properties={}\n",
    "#update your db username\n",
    "db_properties['username']=\"postgres\"\n",
    "#update your db password\n",
    "db_properties['password']=\"wsyt\"\n",
    "#make sure you got the right port number here\n",
    "db_properties['url']= \"jdbc:postgresql://localhost:5432/postgres\"\n",
    "#make sure you had the Postgres JAR file in the right location\n",
    "db_properties['driver']=\"org.postgresql.Driver\"\n",
    "db_properties['table']= \"fifa\"\n",
    "\n",
    "df.write.format(\"jdbc\")\\\n",
    ".mode(\"overwrite\")\\\n",
    ".option(\"url\", db_properties['url'])\\\n",
    ".option(\"dbtable\", db_properties['table'])\\\n",
    ".option(\"user\", db_properties['username'])\\\n",
    ".option(\"password\", db_properties['password'])\\\n",
    ".option(\"Driver\", db_properties['driver'])\\\n",
    ".save()\n",
    "df = sqlContext.read.format(\"jdbc\")\\\n",
    "    .option(\"url\", db_properties['url'])\\\n",
    "    .option(\"dbtable\", db_properties['table'])\\\n",
    "    .option(\"user\", db_properties['username'])\\\n",
    "    .option(\"password\", db_properties['password'])\\\n",
    "    .option(\"Driver\", db_properties['driver'])\\\n",
    "    .load()\n",
    "\n",
    "df.show(10)\n"
   ]
  },
  {
   "cell_type": "markdown",
   "metadata": {},
   "source": [
    "## Task 2 :"
   ]
  },
  {
   "cell_type": "markdown",
   "metadata": {},
   "source": [
    "### What are the X clubs that have the highest number of players with contracts ending in 2023?"
   ]
  },
  {
   "cell_type": "code",
   "execution_count": 4,
   "metadata": {},
   "outputs": [
    {
     "name": "stderr",
     "output_type": "stream",
     "text": [
      "[Stage 19:>                                                         (0 + 1) / 1]\r"
     ]
    },
    {
     "name": "stdout",
     "output_type": "stream",
     "text": [
      "+--------------------+-----------------+\n",
      "|           club_name|number_of_players|\n",
      "+--------------------+-----------------+\n",
      "|En Avant de Guingamp|               19|\n",
      "+--------------------+-----------------+\n",
      "only showing top 1 row\n",
      "\n"
     ]
    },
    {
     "name": "stderr",
     "output_type": "stream",
     "text": [
      "                                                                                \r"
     ]
    }
   ],
   "source": [
    "contracts_2023 = df.filter((df.year == 2022) & (df.club_contract_valid_until == \"2023\"))\n",
    "result = contracts_2023.groupby(\"club_name\").agg(count(\"unique_id\").alias(\"number_of_players\"))\n",
    "result.sort(desc(\"number_of_players\")).show(1)"
   ]
  },
  {
   "cell_type": "markdown",
   "metadata": {},
   "source": [
    "### List the Y clubs with highest average number of players that are older than 27 years across all years"
   ]
  },
  {
   "cell_type": "code",
   "execution_count": 5,
   "metadata": {},
   "outputs": [
    {
     "name": "stdout",
     "output_type": "stream",
     "text": [
      "+-------------------+----------+\n",
      "|          club_name|avg_number|\n",
      "+-------------------+----------+\n",
      "|               null|    109.25|\n",
      "| Dorados de Sinaloa|      19.0|\n",
      "|Matsumoto Yamaga FC|      19.0|\n",
      "+-------------------+----------+\n",
      "\n"
     ]
    }
   ],
   "source": [
    "from pyspark.sql.window import Window\n",
    "def find_older_clubs(df, year, Y):\n",
    "    older_club=df.filter(df.age > year).groupBy(\"club_name\",\"year\").agg(count(\"unique_id\").alias(\"number_of_players\"))\n",
    "    avg_older_club=older_club.groupBy(\"club_name\").agg(avg(\"number_of_players\").alias(\"avg_number\"))\n",
    "    top_Y_clubs = avg_older_club.orderBy(desc(\"avg_number\")).limit(Y)\n",
    "    min_value_at_Y = top_Y_clubs.agg({\"avg_number\": \"min\"}).collect()[0][0]\n",
    "    result = avg_older_club.filter(col(\"avg_number\") >= min_value_at_Y)\n",
    "    return result\n",
    "\n",
    "find_older_clubs(df, 27, 2).show()\n",
    "## Because we don't have to drop NA values accroding to the piazza, I just kept them. \n",
    "## But I also showed the highest average number of players with not-null club."
   ]
  },
  {
   "cell_type": "markdown",
   "metadata": {},
   "source": [
    "### What is the most frequent nation_position in the dataset for each year?"
   ]
  },
  {
   "cell_type": "code",
   "execution_count": 6,
   "metadata": {},
   "outputs": [
    {
     "name": "stdout",
     "output_type": "stream",
     "text": [
      "+----+---------------+-----+\n",
      "|year|nation_position|count|\n",
      "+----+---------------+-----+\n",
      "|2018|            SUB|  600|\n",
      "|2021|            SUB|  588|\n",
      "|2020|            SUB|  588|\n",
      "|2019|            SUB|  576|\n",
      "|2017|            SUB|  564|\n",
      "|2015|            SUB|  564|\n",
      "|2016|            SUB|  511|\n",
      "|2022|            SUB|  396|\n",
      "+----+---------------+-----+\n",
      "\n"
     ]
    }
   ],
   "source": [
    "most_nation_position=df.groupBy(\"year\",\"nation_position\").agg(count(\"nation_position\").alias(\"count\"))\n",
    "max_counts=most_nation_position.groupBy(\"year\").agg(max(\"count\").alias(\"max_count\"))\n",
    "result=most_nation_position.join(max_counts,\"year\").filter(col(\"count\")==col(\"max_count\")).drop(\"max_count\")\n",
    "result=result.orderBy(desc(\"count\"))\n",
    "result.show()"
   ]
  },
  {
   "cell_type": "markdown",
   "metadata": {},
   "source": [
    "## Task 3:"
   ]
  },
  {
   "cell_type": "markdown",
   "metadata": {},
   "source": [
    "### Data Clean"
   ]
  },
  {
   "cell_type": "code",
   "execution_count": 7,
   "metadata": {},
   "outputs": [],
   "source": [
    "df_clean=df.drop('club_name',\n",
    " 'league_name',\n",
    " 'dob',\n",
    " 'player_url',\n",
    " 'short_name',\n",
    " 'long_name',\n",
    " 'player_positions',\n",
    " 'player_face_url',\n",
    " 'club_logo_url',\n",
    " 'club_flag_url',\n",
    " 'nation_logo_url',\n",
    " 'nation_flag_url',\n",
    " 'club_jersey_number',\n",
    " 'club_loaned_from',\n",
    " 'nationality_name',\n",
    " 'nation_team_id',\n",
    " 'nation_position',\n",
    " 'nation_jersey_number',\n",
    " 'release_clause_eur',\n",
    " 'player_tags',\n",
    " 'player_traits',\n",
    " 'mentality_composure',\n",
    " 'goalkeeping_speed',\n",
    " 'unique_id',\n",
    " 'ls',\n",
    " 'st',\n",
    " 'rs',\n",
    " 'lw',\n",
    " 'lf',\n",
    " 'cf',\n",
    " 'rf',\n",
    " 'rw',\n",
    " 'lam',\n",
    " 'cam',\n",
    " 'ram',\n",
    " 'lm',\n",
    " 'lcm',\n",
    " 'cm',\n",
    " 'rcm',\n",
    " 'rm',\n",
    " 'lwb',\n",
    " 'ldm',\n",
    " 'cdm',\n",
    " 'rdm',\n",
    " 'rwb',\n",
    " 'lb',\n",
    " 'lcb',\n",
    " 'cb',\n",
    " 'rcb',\n",
    " 'rb',\n",
    " 'gk',\n",
    " \"club_joined\",\n",
    " 'club_position',\n",
    " 'sofifa_id',\n",
    " 'club_team_id',\n",
    " 'nationality_id'\n",
    " )\n",
    "\n",
    "df_clean=df_clean.dropna(subset=('pace'))"
   ]
  },
  {
   "cell_type": "code",
   "execution_count": 8,
   "metadata": {},
   "outputs": [
    {
     "name": "stderr",
     "output_type": "stream",
     "text": [
      "[Stage 42:==========================================================(1 + 0) / 1]\r"
     ]
    },
    {
     "name": "stdout",
     "output_type": "stream",
     "text": [
      "-RECORD 0---------------------------\n",
      " overall                     | 0    \n",
      " potential                   | 0    \n",
      " value_eur                   | 1649 \n",
      " wage_eur                    | 1374 \n",
      " age                         | 0    \n",
      " height_cm                   | 0    \n",
      " weight_kg                   | 0    \n",
      " league_level                | 1726 \n",
      " club_contract_valid_until   | 1382 \n",
      " preferred_foot              | 0    \n",
      " weak_foot                   | 0    \n",
      " skill_moves                 | 0    \n",
      " international_reputation    | 0    \n",
      " work_rate                   | 0    \n",
      " body_type                   | 0    \n",
      " real_face                   | 0    \n",
      " pace                        | 0    \n",
      " shooting                    | 0    \n",
      " passing                     | 0    \n",
      " dribbling                   | 0    \n",
      " defending                   | 0    \n",
      " physic                      | 0    \n",
      " attacking_crossing          | 0    \n",
      " attacking_finishing         | 0    \n",
      " attacking_heading_accuracy  | 0    \n",
      " attacking_short_passing     | 0    \n",
      " attacking_volleys           | 0    \n",
      " skill_dribbling             | 0    \n",
      " skill_curve                 | 0    \n",
      " skill_fk_accuracy           | 0    \n",
      " skill_long_passing          | 0    \n",
      " skill_ball_control          | 0    \n",
      " movement_acceleration       | 0    \n",
      " movement_sprint_speed       | 0    \n",
      " movement_agility            | 0    \n",
      " movement_reactions          | 0    \n",
      " movement_balance            | 0    \n",
      " power_shot_power            | 0    \n",
      " power_jumping               | 0    \n",
      " power_stamina               | 0    \n",
      " power_strength              | 0    \n",
      " power_long_shots            | 0    \n",
      " mentality_aggression        | 0    \n",
      " mentality_interceptions     | 0    \n",
      " mentality_positioning       | 0    \n",
      " mentality_vision            | 0    \n",
      " mentality_penalties         | 0    \n",
      " defending_marking_awareness | 0    \n",
      " defending_standing_tackle   | 0    \n",
      " defending_sliding_tackle    | 0    \n",
      " goalkeeping_diving          | 0    \n",
      " goalkeeping_handling        | 0    \n",
      " goalkeeping_kicking         | 0    \n",
      " goalkeeping_positioning     | 0    \n",
      " goalkeeping_reflexes        | 0    \n",
      " year                        | 0    \n",
      "\n"
     ]
    },
    {
     "name": "stderr",
     "output_type": "stream",
     "text": [
      "                                                                                \r"
     ]
    }
   ],
   "source": [
    "from pyspark.sql.functions import *\n",
    "\n",
    "null_counts_plays_df = df_clean.select([count(when(isnan(c) | col(c).isNull(), c)).alias(c) \\\n",
    "                        for c in df_clean.columns])\n",
    "\n",
    "null_counts_plays_df.show(truncate=False, vertical=True)"
   ]
  },
  {
   "cell_type": "code",
   "execution_count": 9,
   "metadata": {},
   "outputs": [
    {
     "name": "stderr",
     "output_type": "stream",
     "text": [
      "                                                                                \r"
     ]
    }
   ],
   "source": [
    "from pyspark.ml.feature import Imputer\n",
    "# missing_value = \"NA\"\n",
    "# df_with_substituted_na = (df_clean\\\n",
    "#     .withColumn('value_eur', \\\n",
    "#                 when(df_clean.value_eur==missing_value,\\\n",
    "#                     regexp_replace(df_clean.value_eur,missing_value,None)) \\\n",
    "#                 .otherwise(df_clean.value_eur))\\\n",
    "#                 )\n",
    "# df_with_substituted_na = (df_clean\\\n",
    "#     .withColumn('league_level', \\\n",
    "#                 when(df_clean.league_level==missing_value,\\\n",
    "#                     regexp_replace(df_clean.league_level,missing_value,None)) \\\n",
    "#                 .otherwise(df_clean.league_level))\\\n",
    "#                 )\n",
    "\n",
    "columns_to_be_imputed = [\"value_eur\",'league_level','wage_eur','club_contract_valid_until']\n",
    "value_not_in_dataset = -200\n",
    "\n",
    "# Replace None/Missing Value with a value that can't be present in the dataset.\n",
    "df_with_filled_na = df_clean.fillna(-200, columns_to_be_imputed)\n",
    "\n",
    "#Create new columns with imputed values. New columns will be suffixed with \"_imputed\"\n",
    "imputer = Imputer (\n",
    "            inputCols=columns_to_be_imputed,\n",
    "            outputCols=[\"{}_imputed\".format(c) for c in columns_to_be_imputed])\\\n",
    "            .setStrategy(\"median\").setMissingValue(value_not_in_dataset)\n",
    "\n",
    "df_imputed = imputer.fit(df_with_filled_na).transform(df_with_filled_na)\n",
    "# we will drop the old column without imputation. We have only one column to be imputed\n",
    "df_imputed_enhanced = df_imputed.drop(columns_to_be_imputed[0],columns_to_be_imputed[1],columns_to_be_imputed[2],columns_to_be_imputed[3])\n",
    "# We will rename our newly imputed column with the correct name\n",
    "df_fully_imputed = df_imputed_enhanced.withColumnRenamed(\"value_eur_imputed\",\"value_eur\")\n",
    "df_fully_imputed = df_fully_imputed.withColumnRenamed(\"league_level_imputed\",\"league_level\")\n",
    "df_fully_imputed = df_fully_imputed.withColumnRenamed(\"wage_eur_imputed\",\"wage_eur\")\n",
    "df_fully_imputed = df_fully_imputed.withColumnRenamed(\"club_contract_valid_until_imputed\",\"club_contract_valid_until\")"
   ]
  },
  {
   "cell_type": "code",
   "execution_count": 10,
   "metadata": {},
   "outputs": [
    {
     "name": "stderr",
     "output_type": "stream",
     "text": [
      "[Stage 47:>                                                         (0 + 1) / 1]\r"
     ]
    },
    {
     "name": "stdout",
     "output_type": "stream",
     "text": [
      "-RECORD 0--------------------------\n",
      " overall                     | 0   \n",
      " potential                   | 0   \n",
      " age                         | 0   \n",
      " height_cm                   | 0   \n",
      " weight_kg                   | 0   \n",
      " preferred_foot              | 0   \n",
      " weak_foot                   | 0   \n",
      " skill_moves                 | 0   \n",
      " international_reputation    | 0   \n",
      " work_rate                   | 0   \n",
      " body_type                   | 0   \n",
      " real_face                   | 0   \n",
      " pace                        | 0   \n",
      " shooting                    | 0   \n",
      " passing                     | 0   \n",
      " dribbling                   | 0   \n",
      " defending                   | 0   \n",
      " physic                      | 0   \n",
      " attacking_crossing          | 0   \n",
      " attacking_finishing         | 0   \n",
      " attacking_heading_accuracy  | 0   \n",
      " attacking_short_passing     | 0   \n",
      " attacking_volleys           | 0   \n",
      " skill_dribbling             | 0   \n",
      " skill_curve                 | 0   \n",
      " skill_fk_accuracy           | 0   \n",
      " skill_long_passing          | 0   \n",
      " skill_ball_control          | 0   \n",
      " movement_acceleration       | 0   \n",
      " movement_sprint_speed       | 0   \n",
      " movement_agility            | 0   \n",
      " movement_reactions          | 0   \n",
      " movement_balance            | 0   \n",
      " power_shot_power            | 0   \n",
      " power_jumping               | 0   \n",
      " power_stamina               | 0   \n",
      " power_strength              | 0   \n",
      " power_long_shots            | 0   \n",
      " mentality_aggression        | 0   \n",
      " mentality_interceptions     | 0   \n",
      " mentality_positioning       | 0   \n",
      " mentality_vision            | 0   \n",
      " mentality_penalties         | 0   \n",
      " defending_marking_awareness | 0   \n",
      " defending_standing_tackle   | 0   \n",
      " defending_sliding_tackle    | 0   \n",
      " goalkeeping_diving          | 0   \n",
      " goalkeeping_handling        | 0   \n",
      " goalkeeping_kicking         | 0   \n",
      " goalkeeping_positioning     | 0   \n",
      " goalkeeping_reflexes        | 0   \n",
      " year                        | 0   \n",
      " value_eur                   | 0   \n",
      " league_level                | 0   \n",
      " wage_eur                    | 0   \n",
      " club_contract_valid_until   | 0   \n",
      "\n"
     ]
    },
    {
     "name": "stderr",
     "output_type": "stream",
     "text": [
      "                                                                                \r"
     ]
    }
   ],
   "source": [
    "null_counts_plays_df = df_fully_imputed.select([count(when(isnan(c) | col(c).isNull(), c)).alias(c) \\\n",
    "                        for c in df_fully_imputed.columns])\n",
    "\n",
    "null_counts_plays_df.show(truncate=False, vertical=True)"
   ]
  },
  {
   "cell_type": "code",
   "execution_count": 11,
   "metadata": {},
   "outputs": [
    {
     "name": "stdout",
     "output_type": "stream",
     "text": [
      "root\n",
      " |-- overall: integer (nullable = true)\n",
      " |-- potential: integer (nullable = true)\n",
      " |-- age: integer (nullable = true)\n",
      " |-- height_cm: integer (nullable = true)\n",
      " |-- weight_kg: integer (nullable = true)\n",
      " |-- preferred_foot: string (nullable = true)\n",
      " |-- weak_foot: integer (nullable = true)\n",
      " |-- skill_moves: integer (nullable = true)\n",
      " |-- international_reputation: integer (nullable = true)\n",
      " |-- work_rate: string (nullable = true)\n",
      " |-- body_type: string (nullable = true)\n",
      " |-- real_face: string (nullable = true)\n",
      " |-- pace: integer (nullable = true)\n",
      " |-- shooting: integer (nullable = true)\n",
      " |-- passing: integer (nullable = true)\n",
      " |-- dribbling: integer (nullable = true)\n",
      " |-- defending: integer (nullable = true)\n",
      " |-- physic: integer (nullable = true)\n",
      " |-- attacking_crossing: integer (nullable = true)\n",
      " |-- attacking_finishing: integer (nullable = true)\n",
      " |-- attacking_heading_accuracy: integer (nullable = true)\n",
      " |-- attacking_short_passing: integer (nullable = true)\n",
      " |-- attacking_volleys: integer (nullable = true)\n",
      " |-- skill_dribbling: integer (nullable = true)\n",
      " |-- skill_curve: integer (nullable = true)\n",
      " |-- skill_fk_accuracy: integer (nullable = true)\n",
      " |-- skill_long_passing: integer (nullable = true)\n",
      " |-- skill_ball_control: integer (nullable = true)\n",
      " |-- movement_acceleration: integer (nullable = true)\n",
      " |-- movement_sprint_speed: integer (nullable = true)\n",
      " |-- movement_agility: integer (nullable = true)\n",
      " |-- movement_reactions: integer (nullable = true)\n",
      " |-- movement_balance: integer (nullable = true)\n",
      " |-- power_shot_power: integer (nullable = true)\n",
      " |-- power_jumping: integer (nullable = true)\n",
      " |-- power_stamina: integer (nullable = true)\n",
      " |-- power_strength: integer (nullable = true)\n",
      " |-- power_long_shots: integer (nullable = true)\n",
      " |-- mentality_aggression: integer (nullable = true)\n",
      " |-- mentality_interceptions: integer (nullable = true)\n",
      " |-- mentality_positioning: integer (nullable = true)\n",
      " |-- mentality_vision: integer (nullable = true)\n",
      " |-- mentality_penalties: integer (nullable = true)\n",
      " |-- defending_marking_awareness: integer (nullable = true)\n",
      " |-- defending_standing_tackle: integer (nullable = true)\n",
      " |-- defending_sliding_tackle: integer (nullable = true)\n",
      " |-- goalkeeping_diving: integer (nullable = true)\n",
      " |-- goalkeeping_handling: integer (nullable = true)\n",
      " |-- goalkeeping_kicking: integer (nullable = true)\n",
      " |-- goalkeeping_positioning: integer (nullable = true)\n",
      " |-- goalkeeping_reflexes: integer (nullable = true)\n",
      " |-- year: integer (nullable = true)\n",
      " |-- value_eur: integer (nullable = true)\n",
      " |-- league_level: integer (nullable = true)\n",
      " |-- wage_eur: integer (nullable = true)\n",
      " |-- club_contract_valid_until: integer (nullable = true)\n",
      "\n"
     ]
    }
   ],
   "source": [
    "df_fully_imputed=df_fully_imputed.withColumn(\"wage_eur\",df_fully_imputed.wage_eur.cast(\"int\")).withColumn(\"value_eur\",df_fully_imputed.value_eur.cast(\"int\"))\n",
    "df_fully_imputed.printSchema()"
   ]
  },
  {
   "cell_type": "code",
   "execution_count": 12,
   "metadata": {},
   "outputs": [],
   "source": [
    "df_fully_imputed = df_fully_imputed.withColumn(\"preferred_foot\", when(col(\"preferred_foot\") == \"Left\", 1).otherwise(0))\n",
    "df_fully_imputed = df_fully_imputed.withColumn(\"real_face\", when(col(\"real_face\") == \"Yes\", 1).otherwise(0))"
   ]
  },
  {
   "cell_type": "code",
   "execution_count": 13,
   "metadata": {},
   "outputs": [],
   "source": [
    "from pyspark.sql.types import *\n",
    "\n",
    "# Define a Python function that maps strings to ordinal values\n",
    "def map_work_rate_to_ordinal(work_rate):\n",
    "    mapping = {'Low': 1, 'Medium': 2, 'High': 3}\n",
    "    return mapping.get(work_rate, 0)  # Return 0 if the work_rate is not found\n",
    "\n",
    "# Register the function as a UDF\n",
    "map_work_rate_to_ordinal_udf = udf(map_work_rate_to_ordinal, IntegerType())\n",
    "\n",
    "# Split the work_rate column and then apply the mapping to each part\n",
    "df_features = df_fully_imputed.withColumn(\"attack_work_rate\", map_work_rate_to_ordinal_udf(split(col(\"work_rate\"), \"/\").getItem(0))) \\\n",
    "                     .withColumn(\"defense_work_rate\", map_work_rate_to_ordinal_udf(split(col(\"work_rate\"), \"/\").getItem(1)))\n",
    "df_features = df_features.drop(\"work_rate\")"
   ]
  },
  {
   "cell_type": "code",
   "execution_count": 14,
   "metadata": {},
   "outputs": [
    {
     "name": "stderr",
     "output_type": "stream",
     "text": [
      "[Stage 50:>                                                         (0 + 1) / 1]\r"
     ]
    },
    {
     "name": "stdout",
     "output_type": "stream",
     "text": [
      "+---------+\n",
      "|body_type|\n",
      "+---------+\n",
      "|   Stocky|\n",
      "|     Lean|\n",
      "|   Unique|\n",
      "|   Normal|\n",
      "+---------+\n",
      "\n"
     ]
    },
    {
     "name": "stderr",
     "output_type": "stream",
     "text": [
      "                                                                                \r"
     ]
    }
   ],
   "source": [
    "def standardize_body_type(body_type):\n",
    "    if 'Lean' in body_type:\n",
    "        return 'Lean'\n",
    "    elif 'Stocky' in body_type:\n",
    "        return 'Stocky'\n",
    "    elif 'Normal' in body_type:\n",
    "        return 'Normal'\n",
    "    else:\n",
    "        return 'Unique'  # For any type that doesn't fit the above categories\n",
    "\n",
    "# Register UDF\n",
    "standardize_body_type_udf = udf(standardize_body_type, StringType())\n",
    "\n",
    "# Apply the UDF to standardize the body_type column\n",
    "df_features = df_features.withColumn(\"body_type\", standardize_body_type_udf(col(\"body_type\")))\n",
    "\n",
    "df_features.select(\"body_type\").distinct().show()"
   ]
  },
  {
   "cell_type": "code",
   "execution_count": 15,
   "metadata": {},
   "outputs": [
    {
     "name": "stdout",
     "output_type": "stream",
     "text": [
      "root\n",
      " |-- overall: integer (nullable = true)\n",
      " |-- potential: integer (nullable = true)\n",
      " |-- age: integer (nullable = true)\n",
      " |-- height_cm: integer (nullable = true)\n",
      " |-- weight_kg: integer (nullable = true)\n",
      " |-- preferred_foot: integer (nullable = false)\n",
      " |-- weak_foot: integer (nullable = true)\n",
      " |-- skill_moves: integer (nullable = true)\n",
      " |-- international_reputation: integer (nullable = true)\n",
      " |-- body_type: string (nullable = true)\n",
      " |-- real_face: integer (nullable = false)\n",
      " |-- pace: integer (nullable = true)\n",
      " |-- shooting: integer (nullable = true)\n",
      " |-- passing: integer (nullable = true)\n",
      " |-- dribbling: integer (nullable = true)\n",
      " |-- defending: integer (nullable = true)\n",
      " |-- physic: integer (nullable = true)\n",
      " |-- attacking_crossing: integer (nullable = true)\n",
      " |-- attacking_finishing: integer (nullable = true)\n",
      " |-- attacking_heading_accuracy: integer (nullable = true)\n",
      " |-- attacking_short_passing: integer (nullable = true)\n",
      " |-- attacking_volleys: integer (nullable = true)\n",
      " |-- skill_dribbling: integer (nullable = true)\n",
      " |-- skill_curve: integer (nullable = true)\n",
      " |-- skill_fk_accuracy: integer (nullable = true)\n",
      " |-- skill_long_passing: integer (nullable = true)\n",
      " |-- skill_ball_control: integer (nullable = true)\n",
      " |-- movement_acceleration: integer (nullable = true)\n",
      " |-- movement_sprint_speed: integer (nullable = true)\n",
      " |-- movement_agility: integer (nullable = true)\n",
      " |-- movement_reactions: integer (nullable = true)\n",
      " |-- movement_balance: integer (nullable = true)\n",
      " |-- power_shot_power: integer (nullable = true)\n",
      " |-- power_jumping: integer (nullable = true)\n",
      " |-- power_stamina: integer (nullable = true)\n",
      " |-- power_strength: integer (nullable = true)\n",
      " |-- power_long_shots: integer (nullable = true)\n",
      " |-- mentality_aggression: integer (nullable = true)\n",
      " |-- mentality_interceptions: integer (nullable = true)\n",
      " |-- mentality_positioning: integer (nullable = true)\n",
      " |-- mentality_vision: integer (nullable = true)\n",
      " |-- mentality_penalties: integer (nullable = true)\n",
      " |-- defending_marking_awareness: integer (nullable = true)\n",
      " |-- defending_standing_tackle: integer (nullable = true)\n",
      " |-- defending_sliding_tackle: integer (nullable = true)\n",
      " |-- goalkeeping_diving: integer (nullable = true)\n",
      " |-- goalkeeping_handling: integer (nullable = true)\n",
      " |-- goalkeeping_kicking: integer (nullable = true)\n",
      " |-- goalkeeping_positioning: integer (nullable = true)\n",
      " |-- goalkeeping_reflexes: integer (nullable = true)\n",
      " |-- year: integer (nullable = true)\n",
      " |-- value_eur: integer (nullable = true)\n",
      " |-- league_level: integer (nullable = true)\n",
      " |-- wage_eur: integer (nullable = true)\n",
      " |-- club_contract_valid_until: integer (nullable = true)\n",
      " |-- attack_work_rate: integer (nullable = true)\n",
      " |-- defense_work_rate: integer (nullable = true)\n",
      "\n"
     ]
    }
   ],
   "source": [
    "df_features.printSchema()"
   ]
  },
  {
   "cell_type": "code",
   "execution_count": 16,
   "metadata": {},
   "outputs": [],
   "source": [
    "from functools import reduce\n",
    "\n",
    "def column_add(a,b):\n",
    "     return  a.__add__(b)\n",
    "    \n",
    "def find_outliers(df):\n",
    "    # Identifying the numerical columns in a spark dataframe\n",
    "    numeric_columns = [column[0] for column in df.dtypes if column[1]==\"int\"]\n",
    "\n",
    "    # Using the `for` loop to create new columns by identifying the outliers for each feature\n",
    "    for column in numeric_columns:\n",
    "\n",
    "        less_Q1 = 'less_Q1_{}'.format(column)\n",
    "        more_Q3 = 'more_Q3_{}'.format(column)\n",
    "        Q1 = 'Q1_{}'.format(column)\n",
    "        Q3 = 'Q3_{}'.format(column)\n",
    "\n",
    "        # Q1 : First Quartile ., Q3 : Third Quartile\n",
    "        Q1 = df.approxQuantile(column,[0.25],relativeError=0)\n",
    "        Q3 = df.approxQuantile(column,[0.75],relativeError=0)\n",
    "        \n",
    "        # IQR : Inter Quantile Range\n",
    "        # We need to define the index [0], as Q1 & Q3 are a set of lists., to perform a mathematical operation\n",
    "        # Q1 & Q3 are defined seperately so as to have a clear indication on First Quantile & 3rd Quantile\n",
    "        IQR = Q3[0] - Q1[0]\n",
    "        \n",
    "        #selecting the data, with -1.5*IQR to + 1.5*IQR., where param = 1.5 default value\n",
    "        less_Q1 =  Q1[0] - 1.5*IQR\n",
    "        more_Q3 =  Q3[0] + 1.5*IQR\n",
    "        \n",
    "        isOutlierCol = 'is_outlier_{}'.format(column)\n",
    "        \n",
    "        df = df.withColumn(isOutlierCol,when((df[column] > more_Q3) | (df[column] < less_Q1), 1).otherwise(0))\n",
    "    \n",
    "\n",
    "    # Selecting the specific columns which we have added above, to check if there are any outliers\n",
    "    selected_columns = [column for column in df.columns if column.startswith(\"is_outlier\")]\n",
    "    # Adding all the outlier columns into a new colum \"total_outliers\", to see the total number of outliers\n",
    "    df = df.withColumn('total_outliers',reduce(column_add, ( df[col] for col in  selected_columns)))\n",
    "\n",
    "    # Dropping the extra columns created above, just to create nice dataframe., without extra columns\n",
    "    df = df.drop(*[column for column in df.columns if column.startswith(\"is_outlier\")])\n",
    "\n",
    "    return df"
   ]
  },
  {
   "cell_type": "code",
   "execution_count": 17,
   "metadata": {},
   "outputs": [
    {
     "name": "stderr",
     "output_type": "stream",
     "text": [
      "[Stage 165:>                                                        (0 + 1) / 1]\r"
     ]
    },
    {
     "name": "stdout",
     "output_type": "stream",
     "text": [
      "-RECORD 0--------------------------------\n",
      " overall                     | 93        \n",
      " potential                   | 95        \n",
      " age                         | 27        \n",
      " height_cm                   | 169       \n",
      " weight_kg                   | 67        \n",
      " preferred_foot              | 1         \n",
      " weak_foot                   | 3         \n",
      " skill_moves                 | 4         \n",
      " international_reputation    | 5         \n",
      " body_type                   | Normal    \n",
      " real_face                   | 1         \n",
      " pace                        | 93        \n",
      " shooting                    | 89        \n",
      " passing                     | 86        \n",
      " dribbling                   | 96        \n",
      " defending                   | 27        \n",
      " physic                      | 63        \n",
      " attacking_crossing          | 84        \n",
      " attacking_finishing         | 94        \n",
      " attacking_heading_accuracy  | 71        \n",
      " attacking_short_passing     | 89        \n",
      " attacking_volleys           | 85        \n",
      " skill_dribbling             | 96        \n",
      " skill_curve                 | 89        \n",
      " skill_fk_accuracy           | 90        \n",
      " skill_long_passing          | 76        \n",
      " skill_ball_control          | 96        \n",
      " movement_acceleration       | 96        \n",
      " movement_sprint_speed       | 90        \n",
      " movement_agility            | 94        \n",
      " movement_reactions          | 94        \n",
      " movement_balance            | 95        \n",
      " power_shot_power            | 80        \n",
      " power_jumping               | 73        \n",
      " power_stamina               | 77        \n",
      " power_strength              | 60        \n",
      " power_long_shots            | 88        \n",
      " mentality_aggression        | 48        \n",
      " mentality_interceptions     | 22        \n",
      " mentality_positioning       | 92        \n",
      " mentality_vision            | 90        \n",
      " mentality_penalties         | 76        \n",
      " defending_marking_awareness | 25        \n",
      " defending_standing_tackle   | 21        \n",
      " defending_sliding_tackle    | 20        \n",
      " goalkeeping_diving          | 6         \n",
      " goalkeeping_handling        | 11        \n",
      " goalkeeping_kicking         | 15        \n",
      " goalkeeping_positioning     | 14        \n",
      " goalkeeping_reflexes        | 8         \n",
      " year                        | 2015      \n",
      " value_eur                   | 100500000 \n",
      " league_level                | 1         \n",
      " wage_eur                    | 550000    \n",
      " club_contract_valid_until   | 2018      \n",
      " attack_work_rate            | 2         \n",
      " defense_work_rate           | 1         \n",
      " total_outliers              | 14        \n",
      "only showing top 1 row\n",
      "\n"
     ]
    },
    {
     "name": "stderr",
     "output_type": "stream",
     "text": [
      "                                                                                \r"
     ]
    }
   ],
   "source": [
    "df_with_outlier_handling = find_outliers(df_features)\n",
    "df_with_outlier_handling.show(1, vertical=True)"
   ]
  },
  {
   "cell_type": "code",
   "execution_count": 18,
   "metadata": {},
   "outputs": [
    {
     "name": "stderr",
     "output_type": "stream",
     "text": [
      "[Stage 166:>                                                        (0 + 1) / 1]\r"
     ]
    },
    {
     "name": "stdout",
     "output_type": "stream",
     "text": [
      "+--------------+-----+\n",
      "|total_outliers|count|\n",
      "+--------------+-----+\n",
      "|            12|   49|\n",
      "|             1|39192|\n",
      "|            13|   30|\n",
      "|             6| 2619|\n",
      "|            16|    3|\n",
      "|             3|15884|\n",
      "|             5| 5160|\n",
      "|            15|    2|\n",
      "|             9|  282|\n",
      "|            17|    2|\n",
      "|             4| 8274|\n",
      "|             8|  580|\n",
      "|             7| 1173|\n",
      "|            10|  166|\n",
      "|            11|   79|\n",
      "|            14|   26|\n",
      "|             2|30914|\n",
      "|             0|21852|\n",
      "|            18|    1|\n",
      "+--------------+-----+\n",
      "\n"
     ]
    },
    {
     "name": "stderr",
     "output_type": "stream",
     "text": [
      "                                                                                \r"
     ]
    }
   ],
   "source": [
    "df_with_outlier_handling.groupby(\"total_outliers\").count().show()"
   ]
  },
  {
   "cell_type": "code",
   "execution_count": 19,
   "metadata": {},
   "outputs": [
    {
     "name": "stderr",
     "output_type": "stream",
     "text": [
      "[Stage 172:>                                                        (0 + 1) / 1]\r"
     ]
    },
    {
     "name": "stdout",
     "output_type": "stream",
     "text": [
      "126288 116116\n"
     ]
    },
    {
     "name": "stderr",
     "output_type": "stream",
     "text": [
      "                                                                                \r"
     ]
    }
   ],
   "source": [
    "df_with_substituted_na_and_outliers = df_with_outlier_handling.\\\n",
    "        filter(df_with_outlier_handling['total_Outliers']<=4)\n",
    "print(df_features.count(),df_with_substituted_na_and_outliers.count())"
   ]
  },
  {
   "cell_type": "code",
   "execution_count": 20,
   "metadata": {},
   "outputs": [
    {
     "name": "stderr",
     "output_type": "stream",
     "text": [
      "                                                                                \r"
     ]
    },
    {
     "data": {
      "text/plain": [
       "{'attacking_crossing',\n",
       " 'attacking_finishing',\n",
       " 'attacking_short_passing',\n",
       " 'attacking_volleys',\n",
       " 'defending_marking_awareness',\n",
       " 'defending_sliding_tackle',\n",
       " 'defending_standing_tackle',\n",
       " 'mentality_interceptions',\n",
       " 'mentality_positioning',\n",
       " 'mentality_vision',\n",
       " 'movement_acceleration',\n",
       " 'movement_sprint_speed',\n",
       " 'power_long_shots',\n",
       " 'power_shot_power',\n",
       " 'power_strength',\n",
       " 'skill_ball_control',\n",
       " 'skill_dribbling',\n",
       " 'skill_long_passing'}"
      ]
     },
     "execution_count": 20,
     "metadata": {},
     "output_type": "execute_result"
    }
   ],
   "source": [
    "import numpy as np\n",
    "df_with_substituted_na_and_outliers=df_with_substituted_na_and_outliers.drop('total_outliers')\n",
    "features = [col for col in df_with_substituted_na_and_outliers.columns if col not in [\"body_type\",'overall']]\n",
    "\n",
    "# Convert to Pandas DataFrame for correlation computation\n",
    "correlation_matrix = df_with_substituted_na_and_outliers.select(features).toPandas().corr()\n",
    "columns_drop = set()\n",
    "for i in range(len(correlation_matrix.columns)):\n",
    "    for j in range(i + 1, len(correlation_matrix.columns)):\n",
    "        corr_value = correlation_matrix.iloc[i, j]\n",
    "        if np.abs(corr_value) > 0.8:  # Use Python's built-in abs function\n",
    "            columns_drop.add(correlation_matrix.columns[j])\n",
    "\n",
    "columns_drop"
   ]
  },
  {
   "cell_type": "code",
   "execution_count": 21,
   "metadata": {},
   "outputs": [],
   "source": [
    "for c in columns_drop:\n",
    "    df_with_substituted_na_and_outliers = df_with_substituted_na_and_outliers.drop(c)"
   ]
  },
  {
   "cell_type": "code",
   "execution_count": 22,
   "metadata": {},
   "outputs": [
    {
     "name": "stderr",
     "output_type": "stream",
     "text": [
      "[Stage 179:>                                                        (0 + 1) / 1]\r"
     ]
    },
    {
     "name": "stdout",
     "output_type": "stream",
     "text": [
      "+-------+---------+---+---------+---------+--------------+---------+-----------+------------------------+---------+----+--------+-------+---------+---------+------+--------------------------+-----------+-----------------+----------------+------------------+----------------+-------------+-------------+--------------------+-------------------+------------------+--------------------+-------------------+-----------------------+--------------------+----+---------+------------+--------+-------------------------+----------------+-----------------+-----------------+\n",
      "|overall|potential|age|height_cm|weight_kg|preferred_foot|weak_foot|skill_moves|international_reputation|real_face|pace|shooting|passing|dribbling|defending|physic|attacking_heading_accuracy|skill_curve|skill_fk_accuracy|movement_agility|movement_reactions|movement_balance|power_jumping|power_stamina|mentality_aggression|mentality_penalties|goalkeeping_diving|goalkeeping_handling|goalkeeping_kicking|goalkeeping_positioning|goalkeeping_reflexes|year|value_eur|league_level|wage_eur|club_contract_valid_until|attack_work_rate|defense_work_rate|body_type_encoded|\n",
      "+-------+---------+---+---------+---------+--------------+---------+-----------+------------------------+---------+----+--------+-------+---------+---------+------+--------------------------+-----------+-----------------+----------------+------------------+----------------+-------------+-------------+--------------------+-------------------+------------------+--------------------+-------------------+-----------------------+--------------------+----+---------+------------+--------+-------------------------+----------------+-----------------+-----------------+\n",
      "|     83|       83| 28|      170|       60|             0|        3|          4|                       3|        1|  91|      71|     78|       84|       29|    53|                        55|         80|               46|              91|                82|              87|           70|           79|                  62|                 56|                10|                  10|                 15|                      7|                  13|2015| 15500000|           1|  150000|                     2017|               2|                2|    (3,[1],[1.0])|\n",
      "|     83|       83| 27|      171|       61|             0|        4|          3|                       3|        0|  74|      75|     83|       82|       71|    72|                        68|         82|               79|              84|                82|              85|           81|           91|                  77|                 70|                13|                  15|                 15|                     13|                  13|2015| 16500000|           1|  110000|                     2018|               2|                2|    (3,[0],[1.0])|\n",
      "|     83|       83| 29|      186|       76|             0|        3|          2|                       3|        1|  76|      49|     56|       57|       84|    79|                        86|         32|               39|              67|                75|              58|           86|           71|                  88|                 49|                12|                   6|                 10|                     13|                  12|2015| 12500000|           1|  130000|                     2016|               2|                2|    (3,[1],[1.0])|\n",
      "|     83|       85| 27|      188|       80|             0|        3|          2|                       3|        0|  52|      57|     68|       64|       86|    78|                        86|         55|               74|              57|                77|              38|           71|           70|                  74|                 76|                14|                   6|                 13|                     13|                  14|2015| 14500000|           1|  150000|                     2019|               2|                2|    (3,[0],[1.0])|\n",
      "|     83|       84| 27|      181|       72|             0|        4|          4|                       2|        0|  85|      79|     82|       84|       57|    74|                        55|         79|               79|              78|                79|              76|           57|           93|                  66|                 88|                10|                   4|                 14|                      4|                  14|2015| 18500000|           1|  130000|                     2018|               3|                2|    (3,[1],[1.0])|\n",
      "|     83|       87| 26|      176|       66|             0|        3|          5|                       3|        0|  93|      77|     76|       87|       57|    71|                        59|         73|               69|              90|                75|              77|           60|           80|                  79|                 65|                 5|                   5|                 13|                      6|                   9|2015| 18000000|           1|  130000|                     2017|               3|                2|    (3,[1],[1.0])|\n",
      "|     82|       82| 34|      183|       83|             0|        3|          3|                       4|        1|  63|      83|     85|       75|       70|    81|                        73|         84|               80|              59|                86|              60|           71|           76|                  85|                 85|                13|                  15|                 13|                      5|                  10|2015|  3900000|           1|  100000|                     2015|               2|                2|    (3,[0],[1.0])|\n",
      "|     82|       82| 32|      188|       92|             0|        3|          2|                       3|        1|  54|      64|     53|       55|       84|    83|                        82|         47|               75|              44|                75|              43|           88|           64|                  83|                 80|                 9|                   6|                  6|                     14|                  11|2015|  9000000|           1|  130000|                     2016|               2|                2|    (3,[2],[1.0])|\n",
      "|     82|       82| 30|      180|       74|             0|        3|          2|                       3|        1|  68|      72|     80|       76|       75|    73|                        51|         86|               75|              79|                81|              74|           60|           82|                  73|                 83|                 6|                  12|                 10|                      5|                  10|2015| 13500000|           1|  130000|                     2017|               2|                2|    (3,[0],[1.0])|\n",
      "|     82|       82| 32|      175|       70|             0|        3|          3|                       2|        1|  85|      82|     77|       84|       31|    60|                        76|         83|               75|              83|                83|              83|           77|           71|                  41|                 83|                17|                  14|                 17|                     17|                  17|2015| 13000000|           1|  130000|                     2016|               3|                2|    (3,[1],[1.0])|\n",
      "|     82|       84| 26|      185|       85|             0|        3|          2|                       2|        1|  78|      52|     61|       65|       84|    82|                        82|         51|               47|              66|                80|              75|           82|           69|                  87|                 55|                 6|                   8|                  5|                     12|                   5|2015| 16000000|           1|  140000|                     2018|               2|                2|    (3,[0],[1.0])|\n",
      "|     82|       85| 27|      169|       61|             0|        4|          4|                       2|        0|  88|      77|     80|       87|       37|    53|                        35|         85|               82|              93|                76|              92|           59|           76|                  64|                 80|                 7|                  10|                  8|                     10|                   4|2015| 18500000|           1|  130000|                     2018|               3|                2|    (3,[0],[1.0])|\n",
      "|     82|       84| 26|      187|       82|             0|        3|          2|                       2|        1|  66|      50|     65|       65|       83|    78|                        84|         38|               52|              65|                82|              60|           82|           69|                  80|                 56|                14|                   6|                  9|                     10|                   7|2015| 16000000|           1|  140000|                     2017|               2|                2|    (3,[0],[1.0])|\n",
      "|     82|       83| 27|      189|       84|             0|        3|          3|                       4|        1|  77|      64|     72|       72|       80|    78|                        82|         70|               75|              75|                74|              56|           80|           75|                  84|                 75|                11|                  12|                 10|                      7|                  14|2015| 14500000|           1|  160000|                     2019|               3|                2|    (3,[0],[1.0])|\n",
      "|     82|       82| 29|      180|       76|             0|        5|          4|                       3|        0|  71|      81|     83|       85|       63|    73|                        59|         83|               85|              78|                81|              81|           73|           77|                  70|                 84|                 9|                  11|                 13|                      7|                   8|2015| 14500000|           1|  130000|                     2018|               2|                2|    (3,[0],[1.0])|\n",
      "|     82|       84| 25|      193|       88|             0|        3|          2|                       3|        1|  71|      57|     58|       57|       83|    79|                        85|         33|               64|              66|                79|              66|           73|           67|                  84|                 67|                 6|                   5|                 10|                      8|                   6|2015| 15000000|           1|  130000|                     2016|               2|                2|    (3,[1],[1.0])|\n",
      "|     82|       84| 26|      178|       74|             0|        4|          4|                       2|        0|  93|      82|     68|       82|       38|    73|                        72|         78|               70|              70|                79|              70|           83|           94|                  64|                 78|                11|                  14|                 12|                      5|                  11|2015| 19500000|           1|  150000|                     2015|               3|                2|    (3,[0],[1.0])|\n",
      "|     82|       85| 27|      185|       85|             0|        4|          4|                       2|        0|  82|      81|     66|       78|       43|    85|                        85|         66|               34|              78|                80|              70|           85|           84|                  83|                 70|                15|                   5|                 12|                     14|                  14|2015| 18500000|           1|  150000|                     2017|               3|                2|    (3,[0],[1.0])|\n",
      "|     75|       75| 30|      189|       81|             0|        3|          3|                       2|        0|  72|      74|     63|       75|       46|    73|                        76|         74|               49|              76|                78|              60|           81|           64|                  70|                 70|                15|                  14|                 15|                      7|                   9|2015|   725000|           1|    4000|                     2020|               2|                2|    (3,[0],[1.0])|\n",
      "|     82|       87| 21|      172|       72|             0|        3|          4|                       2|        1|  93|      73|     76|       87|       44|    63|                        50|         69|               68|              93|                83|              86|           71|           72|                  67|                 75|                 9|                  10|                 14|                      7|                  14|2015| 15000000|           1|  120000|                     2017|               2|                2|    (3,[0],[1.0])|\n",
      "+-------+---------+---+---------+---------+--------------+---------+-----------+------------------------+---------+----+--------+-------+---------+---------+------+--------------------------+-----------+-----------------+----------------+------------------+----------------+-------------+-------------+--------------------+-------------------+------------------+--------------------+-------------------+-----------------------+--------------------+----+---------+------------+--------+-------------------------+----------------+-----------------+-----------------+\n",
      "only showing top 20 rows\n",
      "\n"
     ]
    },
    {
     "name": "stderr",
     "output_type": "stream",
     "text": [
      "                                                                                \r"
     ]
    }
   ],
   "source": [
    "from pyspark.ml.feature import StringIndexer, OneHotEncoder\n",
    "from pyspark.ml import Pipeline\n",
    "stage_1 = StringIndexer(inputCol= 'body_type', outputCol= 'body_type_index')\n",
    "stage_2 = OneHotEncoder(inputCol= 'body_type_index', outputCol= 'body_type_encoded')\n",
    "pipeline = Pipeline(stages=[stage_1, stage_2])\n",
    "\n",
    "# fit the pipeline model and transform the data as defined\n",
    "\n",
    "pipeline_model = pipeline.fit(df_with_substituted_na_and_outliers)\n",
    "df_encoded = pipeline_model.transform(df_with_substituted_na_and_outliers)\n",
    "df_encoded=df_encoded.drop('body_type','body_type_index')\n",
    "df_encoded.show()"
   ]
  },
  {
   "cell_type": "markdown",
   "metadata": {},
   "source": [
    "### Spark Version:"
   ]
  },
  {
   "cell_type": "code",
   "execution_count": 23,
   "metadata": {},
   "outputs": [
    {
     "name": "stdout",
     "output_type": "stream",
     "text": [
      "root\n",
      " |-- outcome: integer (nullable = true)\n",
      " |-- features: vector (nullable = true)\n",
      "\n"
     ]
    },
    {
     "name": "stderr",
     "output_type": "stream",
     "text": [
      "[Stage 180:>                                                        (0 + 1) / 1]\r"
     ]
    },
    {
     "name": "stdout",
     "output_type": "stream",
     "text": [
      "+-------+--------------------+\n",
      "|outcome|            features|\n",
      "+-------+--------------------+\n",
      "|     83|[83.0,28.0,170.0,...|\n",
      "|     83|[83.0,27.0,171.0,...|\n",
      "|     83|[83.0,29.0,186.0,...|\n",
      "|     83|[85.0,27.0,188.0,...|\n",
      "|     83|[84.0,27.0,181.0,...|\n",
      "|     83|[87.0,26.0,176.0,...|\n",
      "|     82|[82.0,34.0,183.0,...|\n",
      "|     82|[82.0,32.0,188.0,...|\n",
      "|     82|[82.0,30.0,180.0,...|\n",
      "|     82|[82.0,32.0,175.0,...|\n",
      "|     82|[84.0,26.0,185.0,...|\n",
      "|     82|[85.0,27.0,169.0,...|\n",
      "|     82|[84.0,26.0,187.0,...|\n",
      "|     82|[83.0,27.0,189.0,...|\n",
      "|     82|[82.0,29.0,180.0,...|\n",
      "|     82|[84.0,25.0,193.0,...|\n",
      "|     82|[84.0,26.0,178.0,...|\n",
      "|     82|[85.0,27.0,185.0,...|\n",
      "|     75|[75.0,30.0,189.0,...|\n",
      "|     82|[87.0,21.0,172.0,...|\n",
      "+-------+--------------------+\n",
      "only showing top 20 rows\n",
      "\n"
     ]
    },
    {
     "name": "stderr",
     "output_type": "stream",
     "text": [
      "                                                                                \r"
     ]
    }
   ],
   "source": [
    "from pyspark.ml import Pipeline,Transformer\n",
    "from pyspark.ml.feature import *\n",
    "from pyspark.ml.util import DefaultParamsReadable, DefaultParamsWritable\n",
    "\n",
    "class OutcomeCreater(Transformer, DefaultParamsReadable, DefaultParamsWritable):\n",
    "\n",
    "    def __init__(self):\n",
    "        super(OutcomeCreater, self).__init__()\n",
    "\n",
    "    def _transform(self, df):\n",
    "        # Renaming the column 'overall' to 'outcome'\n",
    "        df = df.withColumnRenamed('overall', 'outcome')\n",
    "        return df\n",
    "\n",
    "class ColumnDropper(Transformer): # this transformer drops unnecessary columns\n",
    "    def __init__(self, columns_to_drop = None):\n",
    "        super().__init__()\n",
    "        self.columns_to_drop=columns_to_drop\n",
    "    def _transform(self, dataset):\n",
    "        output_df = dataset\n",
    "        for col_name in self.columns_to_drop:\n",
    "            output_df = output_df.drop(col_name)\n",
    "        return output_df\n",
    "\n",
    "columns = [column for column in df_encoded.columns if column != 'overall']\n",
    "\n",
    "vector_assembler = VectorAssembler(inputCols=columns, outputCol=\"features\")\n",
    "stage_outcome = OutcomeCreater()\n",
    "stage_column_dropper = ColumnDropper(columns_to_drop = columns)\n",
    "# Define the pipeline\n",
    "pipeline = Pipeline(stages=[vector_assembler, stage_outcome,stage_column_dropper])\n",
    "\n",
    "# Fit the pipeline on the data\n",
    "pipeline_model = pipeline.fit(df_encoded)\n",
    "\n",
    "# Transform the data\n",
    "df_transformed = pipeline_model.transform(df_encoded)\n",
    "\n",
    "# Select the desired columns and display the DataFrame\n",
    "df_transformed.printSchema()\n",
    "df_transformed.show()"
   ]
  },
  {
   "cell_type": "markdown",
   "metadata": {},
   "source": [
    "### LinearRegression (Spark)"
   ]
  },
  {
   "cell_type": "code",
   "execution_count": 24,
   "metadata": {},
   "outputs": [
    {
     "name": "stderr",
     "output_type": "stream",
     "text": [
      "                                                                                \r"
     ]
    },
    {
     "name": "stdout",
     "output_type": "stream",
     "text": [
      "Coefficients: [0.47991383550384736,0.534257778324787,0.0037523409827978542,0.0194747464773174,0.09823776091555862,0.04845610245358452,0.468596996090899,-0.7363019066206801,-0.15282312286561434,0.04829928980890646,0.002763643074050007,0.050015456438580706,0.07143761489644053,0.027396856972187744,0.057335852653977906,0.05341241245725065,-0.003491433909142846,-0.0032754254101197687,-0.0007031329286457859,0.11899721948448333,-0.009006258079080082,0.0013716315423922907,0.014037168210148016,-0.011799212848366138,-0.0011298863623053607,0.009680658709717668,0.009444665805624542,0.012950387910164585,0.008362553967452387,0.010684293594393482,-0.04126073681720642,1.9715348403233892e-07,-0.17215922217124902,2.66581117342262e-05,-0.011424800110923044,-0.2121744819953004,-0.2216535242161276,0.14097672436045208,-0.0012487731484845306,0.2535979231861699] Intercept: 96.53258982972481\n"
     ]
    },
    {
     "name": "stderr",
     "output_type": "stream",
     "text": [
      "[Stage 219:>                                                        (0 + 1) / 1]\r"
     ]
    },
    {
     "name": "stdout",
     "output_type": "stream",
     "text": [
      "Root Mean Squared Error (RMSE) on test data = 1.798313575118126\n"
     ]
    },
    {
     "name": "stderr",
     "output_type": "stream",
     "text": [
      "                                                                                \r"
     ]
    }
   ],
   "source": [
    "from pyspark.ml.regression import LinearRegression, RandomForestRegressor\n",
    "from pyspark.ml.tuning import ParamGridBuilder, CrossValidator\n",
    "from pyspark.ml.evaluation import *\n",
    "spark.sparkContext.setLogLevel(\"ERROR\")\n",
    "\n",
    "train_data, test_data = df_transformed.randomSplit([0.8, 0.2], seed=42)\n",
    "\n",
    "lr = LinearRegression(labelCol=\"outcome\", featuresCol=\"features\")\n",
    "\n",
    "# Create ParamGrid for Cross Validation\n",
    "paramGrid = (ParamGridBuilder()\n",
    "             .addGrid(lr.regParam, [0.1])  # Regularization\n",
    "             .addGrid(lr.elasticNetParam, [0.0, 1.0])  # Elastic net mixing\n",
    "             .addGrid(lr.maxIter, [10, 50])  # Number of iterations\n",
    "             .build())\n",
    "\n",
    "# Create 5-fold CrossValidator\n",
    "cv = CrossValidator(estimator=lr, estimatorParamMaps=paramGrid, evaluator=RegressionEvaluator(labelCol=\"outcome\"), numFolds=3)\n",
    "\n",
    "# Fit the model on training data\n",
    "cv_model = cv.fit(train_data)  # Assuming trainingData is the training dataset\n",
    "\n",
    "# Get the best model from cross validation\n",
    "best_lr_model = cv_model.bestModel\n",
    "print(f\"Coefficients: {best_lr_model.coefficients} Intercept: {best_lr_model.intercept}\")\n",
    "# Apply the best model to test data\n",
    "test_predictions = best_lr_model.transform(test_data)  # Assuming testData is the test dataset\n",
    "\n",
    "# Evaluate the model\n",
    "evaluator = RegressionEvaluator(labelCol=\"outcome\", predictionCol=\"prediction\", metricName=\"rmse\")\n",
    "rmse = evaluator.evaluate(test_predictions)\n",
    "print(f\"Root Mean Squared Error (RMSE) on test data = {rmse}\")\n"
   ]
  },
  {
   "cell_type": "markdown",
   "metadata": {},
   "source": [
    "### DecisionTree (Spark)"
   ]
  },
  {
   "cell_type": "code",
   "execution_count": 25,
   "metadata": {},
   "outputs": [
    {
     "name": "stderr",
     "output_type": "stream",
     "text": [
      "                                                                                \r"
     ]
    },
    {
     "name": "stdout",
     "output_type": "stream",
     "text": [
      "Best parameters: MaxDepth - 10, MaxBins - 64\n"
     ]
    },
    {
     "name": "stderr",
     "output_type": "stream",
     "text": [
      "[Stage 484:>                                                        (0 + 1) / 1]\r"
     ]
    },
    {
     "name": "stdout",
     "output_type": "stream",
     "text": [
      "Root Mean Squared Error (RMSE) on test data = 0.763074523919655\n"
     ]
    },
    {
     "name": "stderr",
     "output_type": "stream",
     "text": [
      "                                                                                \r"
     ]
    }
   ],
   "source": [
    "spark.sparkContext.setLogLevel(\"ERROR\")\n",
    "from pyspark.ml.regression import DecisionTreeRegressor\n",
    "\n",
    "# Initialize the Decision Tree Regressor\n",
    "dt = DecisionTreeRegressor(labelCol=\"outcome\", featuresCol=\"features\")\n",
    "\n",
    "# Create the parameter grid\n",
    "paramGrid = (ParamGridBuilder()\n",
    "             .addGrid(dt.maxDepth, [5, 10])  # Tune maxDepth\n",
    "             .addGrid(dt.maxBins, [32, 64])  # Tune maxBins\n",
    "             .build())\n",
    "\n",
    "# Define the evaluator\n",
    "evaluator = RegressionEvaluator(metricName=\"rmse\", labelCol=\"outcome\", predictionCol=\"prediction\")\n",
    "\n",
    "# Set up 3-fold cross-validation\n",
    "crossval = CrossValidator(estimator=dt,\n",
    "                          estimatorParamMaps=paramGrid,\n",
    "                          evaluator=evaluator,\n",
    "                          numFolds=3)\n",
    "\n",
    "# Fit the model on the training data\n",
    "cvModel = crossval.fit(train_data)  # Assuming 'train_data' is the training dataset\n",
    "\n",
    "# Extract the best model\n",
    "bestModel = cvModel.bestModel\n",
    "\n",
    "# Print out the best model's parameters\n",
    "print(f\"Best parameters: MaxDepth - {bestModel.getMaxDepth()}, MaxBins - {bestModel.getMaxBins()}\")\n",
    "\n",
    "# Compute RMSE on test data\n",
    "predictions = bestModel.transform(test_data)  # Assuming 'test_data' is the test dataset\n",
    "rmse = evaluator.evaluate(predictions)\n",
    "\n",
    "print(f\"Root Mean Squared Error (RMSE) on test data = {rmse}\")\n",
    "\n"
   ]
  },
  {
   "cell_type": "markdown",
   "metadata": {},
   "source": [
    "### Pytorch Version:"
   ]
  },
  {
   "cell_type": "code",
   "execution_count": 26,
   "metadata": {},
   "outputs": [
    {
     "name": "stderr",
     "output_type": "stream",
     "text": [
      "                                                                                \r"
     ]
    }
   ],
   "source": [
    "import torch  # now import the pytorch module\n",
    "from torch import nn\n",
    "import numpy as np \n",
    "from torch.utils.data import Dataset, DataLoader\n",
    "\n",
    "to_array = udf(lambda v: v.toArray().tolist(), ArrayType(FloatType()))\n",
    "df_train_pandas = train_data.withColumn('features', to_array('features')).toPandas()\n",
    "df_test_pandas = test_data.withColumn('features', to_array('features')).toPandas()\n",
    "\n",
    "x_train = torch.from_numpy(np.array(df_train_pandas['features'].values.tolist(),np.float32))\n",
    "y_train = torch.from_numpy(np.array(df_train_pandas['outcome'].values.tolist(),np.float32))\n",
    "x_test = torch.from_numpy(np.array(df_test_pandas['features'].values.tolist(),np.float32))\n",
    "y_test = torch.from_numpy(np.array(df_test_pandas['outcome'].values.tolist(),np.float32))"
   ]
  },
  {
   "cell_type": "code",
   "execution_count": 27,
   "metadata": {},
   "outputs": [],
   "source": [
    "import matplotlib.pyplot as plt\n",
    "from torch.utils.data import Dataset, DataLoader\n",
    "\n",
    "\n",
    "class MyDataset(Dataset): \n",
    "    def __init__(self,x,y):\n",
    "        self.x = x\n",
    "        self.y = y.float()\n",
    "\n",
    "    def __len__(self):\n",
    "        return self.x.shape[0]\n",
    "\n",
    "    def __getitem__(self, idx):\n",
    "        return (self.x[idx],self.y[idx])\n",
    "    \n",
    "train_dataset = MyDataset(x_train,y_train)\n",
    "test_dataset = MyDataset(x_test,y_test)"
   ]
  },
  {
   "cell_type": "code",
   "execution_count": 28,
   "metadata": {},
   "outputs": [],
   "source": [
    "batch_size = 64  \n",
    "train_loader = DataLoader(dataset=train_dataset, batch_size=batch_size, shuffle=True)\n",
    "test_loader = DataLoader(dataset=test_dataset, batch_size=batch_size, shuffle=False)\n",
    "\n",
    "\n",
    "def train_model(model, train_loader, criterion, optimizer, num_epochs=10):\n",
    "    model.train()\n",
    "    for epoch in range(num_epochs):\n",
    "        for features, labels in train_loader:\n",
    "            # Forward pass\n",
    "            outputs = model(features)\n",
    "            loss = criterion(outputs.view(-1), labels)\n",
    "\n",
    "            # Backward pass and optimization\n",
    "            optimizer.zero_grad()\n",
    "            loss.backward()\n",
    "            torch.nn.utils.clip_grad_norm_(model.parameters(), max_norm=1.0)\n",
    "            optimizer.step()\n",
    "        \n",
    "        print(f'Epoch [{epoch+1}/{num_epochs}], Loss: {loss.item():.4f}')\n",
    "\n",
    "\n",
    "# Evaluation Function\n",
    "def evaluate_model(model, test_loader, criterion):\n",
    "    model.eval()\n",
    "    with torch.no_grad():\n",
    "        total_loss = 0\n",
    "        for features, labels in test_loader:\n",
    "            outputs = model(features)\n",
    "            loss = criterion(outputs.view(-1), labels)\n",
    "            total_loss += loss.item()\n",
    "    return total_loss / len(test_loader)"
   ]
  },
  {
   "cell_type": "markdown",
   "metadata": {},
   "source": [
    "### ShallowMLP (Pytorch)"
   ]
  },
  {
   "cell_type": "code",
   "execution_count": 45,
   "metadata": {},
   "outputs": [
    {
     "name": "stdout",
     "output_type": "stream",
     "text": [
      "Epoch [1/10], Loss: 6054.4639\n",
      "Epoch [2/10], Loss: 253.8969\n",
      "Epoch [3/10], Loss: 471.9241\n",
      "Epoch [4/10], Loss: 526.9057\n",
      "Epoch [5/10], Loss: 538.2729\n",
      "Epoch [6/10], Loss: 579.7512\n",
      "Epoch [7/10], Loss: 760.5797\n",
      "Epoch [8/10], Loss: 213.6251\n",
      "Epoch [9/10], Loss: 450.1411\n",
      "Epoch [10/10], Loss: 235.3135\n",
      "Shallow MLP RMSE: 8.2044\n"
     ]
    }
   ],
   "source": [
    "input_size = x_train.shape[1]\n",
    "class ShallowMLP(nn.Module):\n",
    "    def __init__(self, input_size):\n",
    "        super(ShallowMLP, self).__init__()\n",
    "        # self.fc1 = nn.Linear(input_size, 32)  # Single hidden layer\n",
    "        # self.fc2 = nn.Linear(32, 1)\n",
    "        self.fc1 = nn.Linear(input_size, 64)  # Increased number of neurons\n",
    "        self.dropout = nn.Dropout(0.25)      # Added dropout for regularization\n",
    "        self.fc2 = nn.Linear(64, 1)\n",
    "\n",
    "    def forward(self, x):\n",
    "        x = torch.relu(self.fc1(x))\n",
    "        x = self.dropout(x)  # Apply dropout\n",
    "        x = self.fc2(x)\n",
    "        return x\n",
    "\n",
    "# Initialize the shallow MLP\n",
    "shallow_mlp = ShallowMLP(input_size)\n",
    "criterion = nn.MSELoss()\n",
    "optimizer = torch.optim.Adam(shallow_mlp.parameters(), lr=0.001) # reduced learning rate\n",
    "train_model(shallow_mlp, train_loader, criterion, optimizer, num_epochs=10)\n",
    "rmse_shallow = np.sqrt(evaluate_model(shallow_mlp, test_loader, criterion))\n",
    "print(f'Shallow MLP RMSE: {rmse_shallow:.4f}')"
   ]
  },
  {
   "cell_type": "markdown",
   "metadata": {},
   "source": [
    "### DeepMLP (Pytorch)"
   ]
  },
  {
   "cell_type": "code",
   "execution_count": 44,
   "metadata": {},
   "outputs": [
    {
     "name": "stdout",
     "output_type": "stream",
     "text": [
      "Epoch [1/8], Loss: 61.9404\n",
      "Epoch [2/8], Loss: 23.6483\n",
      "Epoch [3/8], Loss: 35.2200\n",
      "Epoch [4/8], Loss: 44.9551\n",
      "Epoch [5/8], Loss: 30.1873\n",
      "Epoch [6/8], Loss: 50.1474\n",
      "Epoch [7/8], Loss: 20.4708\n",
      "Epoch [8/8], Loss: 14.1512\n",
      "MLP Model RMSE: 6.3689\n"
     ]
    }
   ],
   "source": [
    "class DeepMLP(nn.Module):\n",
    "    def __init__(self, input_size):\n",
    "        super(DeepMLP, self).__init__()\n",
    "        # self.fc1 = nn.Linear(input_size, 64)\n",
    "        # self.fc2 = nn.Linear(64, 64)\n",
    "        # self.fc3 = nn.Linear(64, 32)\n",
    "        # self.fc4 = nn.Linear(32, 1)\n",
    "        self.fc1 = nn.Linear(input_size, 128)  # Increased number of neurons\n",
    "        self.fc2 = nn.Linear(128, 64)\n",
    "        self.fc3 = nn.Linear(64, 64)\n",
    "        self.dropout = nn.Dropout(0.5)         # Higher dropout for a deeper network\n",
    "        self.fc4 = nn.Linear(64, 1)\n",
    "\n",
    "    def forward(self, x):\n",
    "        x = torch.relu(self.fc1(x))\n",
    "        x = torch.relu(self.fc2(x))\n",
    "        x = self.dropout(x)  # Apply dropout\n",
    "        x = torch.relu(self.fc3(x))\n",
    "        x = self.fc4(x)\n",
    "        return x\n",
    "    \n",
    "mlp = DeepMLP(input_size)\n",
    "criterion = nn.MSELoss()\n",
    "optimizer = torch.optim.Adam(mlp.parameters(), lr=0.005)\n",
    "\n",
    "train_model(mlp, train_loader, criterion, optimizer, num_epochs=8)\n",
    "\n",
    "rmse = np.sqrt(evaluate_model(mlp, test_loader, criterion))\n",
    "print(f'MLP Model RMSE: {rmse:.4f}')\n"
   ]
  },
  {
   "cell_type": "code",
   "execution_count": null,
   "metadata": {},
   "outputs": [],
   "source": []
  }
 ],
 "metadata": {
  "kernelspec": {
   "display_name": "Python 3",
   "language": "python",
   "name": "python3"
  },
  "language_info": {
   "codemirror_mode": {
    "name": "ipython",
    "version": 3
   },
   "file_extension": ".py",
   "mimetype": "text/x-python",
   "name": "python",
   "nbconvert_exporter": "python",
   "pygments_lexer": "ipython3",
   "version": "3.8.17"
  },
  "orig_nbformat": 4
 },
 "nbformat": 4,
 "nbformat_minor": 2
}
